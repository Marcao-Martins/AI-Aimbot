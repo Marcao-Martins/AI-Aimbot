{
 "cells": [
  {
   "cell_type": "code",
   "execution_count": 5,
   "metadata": {},
   "outputs": [],
   "source": [
    "# Importação das bibliotecas\n",
    "import torch\n",
    "import mss\n",
    "import cv2\n",
    "import pyautogui\n",
    "from ultralytics import YOLO\n",
    "import numpy as np\n",
    "import os\n",
    "import requests\n"
   ]
  },
  {
   "cell_type": "code",
   "execution_count": 6,
   "metadata": {},
   "outputs": [],
   "source": [
    "# Importa as classes necessárias\n",
    "from capture import ScreenCapture\n",
    "from YOLO import YOLODetection\n",
    "\n",
    "# Inicializa a captura de tela para uma janela específica\n",
    "# Substitua 'Nome do Jogo' pelo título da janela do jogo\n",
    "capture = ScreenCapture()\n",
    "\n",
    "# Inicializa a detecção YOLO com o caminho do modelo\n",
    "yolo_detector = YOLODetection('yolo11n.pt')  # Substitua pelo caminho do seu modelo YOLO"
   ]
  },
  {
   "cell_type": "code",
   "execution_count": null,
   "metadata": {},
   "outputs": [],
   "source": [
    "\n",
    "# Verificação da instalação e da disponibilidade do CUDA\n",
    "import torch\n",
    "print(\"Versão do PyTorch:\", torch.__version__)\n",
    "print(\"CUDA disponível:\", torch.cuda.is_available())\n",
    "print(\"Versão do CUDA:\", torch.version.cuda)"
   ]
  },
  {
   "cell_type": "markdown",
   "metadata": {},
   "source": [
    "Training the model"
   ]
  },
  {
   "cell_type": "code",
   "execution_count": null,
   "metadata": {},
   "outputs": [
    {
     "ename": "",
     "evalue": "",
     "output_type": "error",
     "traceback": [
      "\u001b[1;31mThe Kernel crashed while executing code in the current cell or a previous cell. \n",
      "\u001b[1;31mPlease review the code in the cell(s) to identify a possible cause of the failure. \n",
      "\u001b[1;31mClick <a href='https://aka.ms/vscodeJupyterKernelCrash'>here</a> for more info. \n",
      "\u001b[1;31mView Jupyter <a href='command:jupyter.viewOutput'>log</a> for further details."
     ]
    }
   ],
   "source": [
    "yolo_detector.train_model(r'C:\\Users\\Marcos\\Desktop\\Projetos\\AI aimbot\\training_data\\Zombie_data\\data.yaml')"
   ]
  },
  {
   "cell_type": "code",
   "execution_count": null,
   "metadata": {},
   "outputs": [],
   "source": [
    "while True:\n",
    "    # Captura um frame da janela do jogo\n",
    "    frame = capture.get_frame()\n",
    "    \n",
    "    # Detecta objetos no frame\n",
    "    detections = yolo_detector.detect_objects(frame)\n",
    "    \n",
    "    # Desenha as detecções no frame\n",
    "    frame_with_detections = yolo_detector.draw_detections(frame, detections)\n",
    "    \n",
    "    # Exibe o frame com as detecções\n",
    "    capture.show_frame(frame_with_detections)"
   ]
  }
 ],
 "metadata": {
  "kernelspec": {
   "display_name": "Python 3",
   "language": "python",
   "name": "python3"
  },
  "language_info": {
   "codemirror_mode": {
    "name": "ipython",
    "version": 3
   },
   "file_extension": ".py",
   "mimetype": "text/x-python",
   "name": "python",
   "nbconvert_exporter": "python",
   "pygments_lexer": "ipython3",
   "version": "3.12.7"
  }
 },
 "nbformat": 4,
 "nbformat_minor": 2
}
